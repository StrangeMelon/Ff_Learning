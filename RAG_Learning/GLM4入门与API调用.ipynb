{
 "cells": [
  {
   "cell_type": "markdown",
   "id": "9564fa57",
   "metadata": {},
   "source": [
    "### 使用zhipuai库来调用智谱大模型的API\n"
   ]
  },
  {
   "cell_type": "markdown",
   "id": "f8520c68",
   "metadata": {},
   "source": [
    "#### 1. 创建客户端"
   ]
  },
  {
   "cell_type": "code",
   "execution_count": 12,
   "id": "f8b5fd56",
   "metadata": {},
   "outputs": [],
   "source": [
    "from zhipuai import ZhipuAI\n",
    "from rich import print\n",
    "from dotenv import load_dotenv\n",
    "from IPython.display import display, Markdown, Code\n",
    "import os\n",
    "load_dotenv()\n",
    "api_key = os.getenv(\"ZHIPU_API_KEY\")\n",
    "\n",
    "client = ZhipuAI(api_key=api_key)"
   ]
  },
  {
   "cell_type": "markdown",
   "id": "62e352cb",
   "metadata": {},
   "source": [
    "#### 2. 进行单轮对话"
   ]
  },
  {
   "cell_type": "code",
   "execution_count": 13,
   "id": "824a9f8f",
   "metadata": {},
   "outputs": [
    {
     "data": {
      "text/html": [
       "<pre style=\"white-space:pre;overflow-x:auto;line-height:normal;font-family:Menlo,'DejaVu Sans Mono',consolas,'Courier New',monospace\"><span style=\"color: #800080; text-decoration-color: #800080; font-weight: bold\">CompletionMessage</span><span style=\"font-weight: bold\">(</span>\n",
       "    <span style=\"color: #808000; text-decoration-color: #808000\">content</span>=<span style=\"color: #008000; text-decoration-color: #008000\">'智能体（Agent）在人工智能领域是一个核心概念，指的是能够感知环境并做出行动以实现目标的实体。智能体可以</span>\n",
       "<span style=\"color: #008000; text-decoration-color: #008000\">是软件程序、机器人，也可以是虚拟的实体。以下是对智能体的一些基本特征和类型：\\n\\n### 特征：\\n\\n1. </span>\n",
       "<span style=\"color: #008000; text-decoration-color: #008000\">**感知能力**：智能体能够从环境中获取信息。\\n2. **决策能力**：基于感知到的信息，智能体能够做出决策。\\n3. </span>\n",
       "<span style=\"color: #008000; text-decoration-color: #008000\">**行动能力**：智能体能够执行决策并作用于环境。\\n4. </span>\n",
       "<span style=\"color: #008000; text-decoration-color: #008000\">**学习与适应能力**：智能体能够通过经验学习和适应环境的变化。\\n\\n### 类型：\\n\\n1. </span>\n",
       "<span style=\"color: #008000; text-decoration-color: #008000\">**软件智能体**：如计算机程序，能够执行特定任务。\\n2. **硬件智能体**：如机器人，具有物理形态和执行任务的能力。\\n3. </span>\n",
       "<span style=\"color: #008000; text-decoration-color: #008000\">**虚拟智能体**：存在于虚拟环境中的实体，如电子游戏中的角色。\\n\\n### 应用：\\n\\n- **搜索与导航**：如GPS导航系统。\\n- </span>\n",
       "<span style=\"color: #008000; text-decoration-color: #008000\">**自动化系统**：如自动驾驶汽车。\\n- </span>\n",
       "<span style=\"color: #008000; text-decoration-color: #008000\">**决策支持系统**：如金融市场的交易系统。\\n\\n智能体是人工智能研究和应用中的一个重要领域，它们在实现自动化、智能化等</span>\n",
       "<span style=\"color: #008000; text-decoration-color: #008000\">方面发挥着关键作用。'</span>,\n",
       "    <span style=\"color: #808000; text-decoration-color: #808000\">role</span>=<span style=\"color: #008000; text-decoration-color: #008000\">'assistant'</span>,\n",
       "    <span style=\"color: #808000; text-decoration-color: #808000\">reasoning_content</span>=<span style=\"color: #800080; text-decoration-color: #800080; font-style: italic\">None</span>,\n",
       "    <span style=\"color: #808000; text-decoration-color: #808000\">tool_calls</span>=<span style=\"color: #800080; text-decoration-color: #800080; font-style: italic\">None</span>\n",
       "<span style=\"font-weight: bold\">)</span>\n",
       "</pre>\n"
      ],
      "text/plain": [
       "\u001b[1;35mCompletionMessage\u001b[0m\u001b[1m(\u001b[0m\n",
       "    \u001b[33mcontent\u001b[0m=\u001b[32m'智能体（Agent）在人工智能领域是一个核心概念，指的是能够感知环境并做出行动以实现目标的实体。智能体可以\u001b[0m\n",
       "\u001b[32m是软件程序、机器人，也可以是虚拟的实体。以下是对智能体的一些基本特征和类型：\\n\\n### 特征：\\n\\n1. \u001b[0m\n",
       "\u001b[32m**感知能力**：智能体能够从环境中获取信息。\\n2. **决策能力**：基于感知到的信息，智能体能够做出决策。\\n3. \u001b[0m\n",
       "\u001b[32m**行动能力**：智能体能够执行决策并作用于环境。\\n4. \u001b[0m\n",
       "\u001b[32m**学习与适应能力**：智能体能够通过经验学习和适应环境的变化。\\n\\n### 类型：\\n\\n1. \u001b[0m\n",
       "\u001b[32m**软件智能体**：如计算机程序，能够执行特定任务。\\n2. **硬件智能体**：如机器人，具有物理形态和执行任务的能力。\\n3. \u001b[0m\n",
       "\u001b[32m**虚拟智能体**：存在于虚拟环境中的实体，如电子游戏中的角色。\\n\\n### 应用：\\n\\n- **搜索与导航**：如GPS导航系统。\\n- \u001b[0m\n",
       "\u001b[32m**自动化系统**：如自动驾驶汽车。\\n- \u001b[0m\n",
       "\u001b[32m**决策支持系统**：如金融市场的交易系统。\\n\\n智能体是人工智能研究和应用中的一个重要领域，它们在实现自动化、智能化等\u001b[0m\n",
       "\u001b[32m方面发挥着关键作用。'\u001b[0m,\n",
       "    \u001b[33mrole\u001b[0m=\u001b[32m'assistant'\u001b[0m,\n",
       "    \u001b[33mreasoning_content\u001b[0m=\u001b[3;35mNone\u001b[0m,\n",
       "    \u001b[33mtool_calls\u001b[0m=\u001b[3;35mNone\u001b[0m\n",
       "\u001b[1m)\u001b[0m\n"
      ]
     },
     "metadata": {},
     "output_type": "display_data"
    }
   ],
   "source": [
    "response_1= client.chat.completions.create(\n",
    "    model=\"glm-4\",\n",
    "    messages=[\n",
    "        {\"role\": \"user\", \"content\": \"什么是智能体\"}\n",
    "    ]\n",
    ")\n",
    "print(response_1.choices[0].message)"
   ]
  },
  {
   "cell_type": "code",
   "execution_count": null,
   "id": "a9effcd5",
   "metadata": {},
   "outputs": [],
   "source": [
    "response_2= client.chat.completions.create(\n",
    "    model=\"glm-4\",\n",
    "    messages=[\n",
    "        {\"role\": \"user\", \"content\": \"你提到它是谁\"}\n",
    "    ]\n",
    ")\n",
    "print(response_2.choices[0].message.content)"
   ]
  },
  {
   "cell_type": "markdown",
   "id": "7b602ad5",
   "metadata": {},
   "source": [
    "很明显，模型并不记得之前的信息，对话与对话之间是相互独立的。如果我们想让模型记得之前的信息，就需要将上一个creaye方法产出的结果输入到下一个create方法中。所以在大模型开发的流程中，对话功能是嵌套的逻辑，而不是线性的逻辑"
   ]
  },
  {
   "cell_type": "code",
   "execution_count": null,
   "id": "bc9888eb",
   "metadata": {},
   "outputs": [
    {
     "data": {
      "text/plain": [
       "'智能体（Agent）是人工智能领域中的一个基本概念，指的是能够感知环境并采取行动以实现特定目标的实体。在人工智能的研究中，智能体可以是一个软件程序、一个机器人或者是一个虚拟的实体。\\n\\n智能体的基本特征包括：\\n\\n1. **感知能力**：智能体能够感知周围的环境，获取信息。例如，机器人可以通过传感器感知光线、温度、声音等。\\n\\n2. **行动能力**：智能体能够根据感知到的信息采取行动，比如机器人可以移动、抓取物体等。\\n\\n3. **目标导向**：智能体通常是为了实现某个目标而行动，这些目标可以是简单的，也可以是非常复杂的。\\n\\n4. **自主性**：智能体可以在没有人类直接控制的情况下自主决策。\\n\\n5. **适应性**：智能体能够根据环境的变化调整自己的行为。\\n\\n智能体可以是多种多样的，如：\\n\\n- **软件智能体**：运行在计算机上的程序，例如游戏中的虚拟角色、聊天机器人等。\\n- **机器人智能体**：具有物理形态的智能体，能够在现实世界中执行任务。\\n- **社会智能体**：模拟人类社会行为的智能体，用于研究复杂的社会系统。\\n\\n智能体在人工智能的应用中扮演着重要的角色，它们是实现自动化、智能化系统的核心。'"
      ]
     },
     "execution_count": 21,
     "metadata": {},
     "output_type": "execute_result"
    }
   ],
   "source": [
    "mem_1 = response_1.choices[0].message.content\n",
    "mem_1"
   ]
  },
  {
   "cell_type": "markdown",
   "id": "ee0ca1f1",
   "metadata": {},
   "source": [
    "#### 3. 实现一个简单的多轮对话"
   ]
  },
  {
   "cell_type": "code",
   "execution_count": 28,
   "id": "59c2f905",
   "metadata": {},
   "outputs": [],
   "source": [
    "def chat_once(message):\n",
    "    try:\n",
    "        response = client.chat.completions.create(\n",
    "            model = \"glm-4\",\n",
    "            messages = message\n",
    "        )\n",
    "        assistant_message_content = response.choices[0].message.content\n",
    "        return assistant_message_content\n",
    "    except Exception as e:\n",
    "        print(f\"An error occured: {e}\")\n",
    "        return \"报错，请检查函数功能\""
   ]
  },
  {
   "cell_type": "code",
   "execution_count": 32,
   "id": "a696b4c7",
   "metadata": {},
   "outputs": [],
   "source": [
    "def chat_rebot(messages):\n",
    "    # 能够执行多轮对话，对话是由玩家通过input输入\n",
    "    # 多轮对话的关键在于，要有：进入机制、退出机制、循环机制\n",
    "    # 同时在循环中要实现不断的将模型的发言反馈给模型本身\n",
    "    # 初次之外，还有更多丰富的玩法。例如添加三种聊天模型，以及链接报错的时候的退出机制\n",
    "\n",
    "    mistake = 0\n",
    "    mem = messages\n",
    "    while True:\n",
    "        question = input()\n",
    "        if len(question) == 0:\n",
    "            print(\"你好，你想要什么情报吗\")\n",
    "        elif question ==\"任务结束\":\n",
    "            print(\"好的，欢迎你下次再来\")\n",
    "            break\n",
    "        else:\n",
    "            # 将用户输入的信息添加给模型\n",
    "            new_user_message = {\"role\": \"user\", \"content\": question}# 用户的最近一次提问\n",
    "            mem.append(new_user_message)# 把用户最近一次提问加入到记忆中，并且由于大模型只会回答最后一个user信息，所以大模型回答的是最近的一个提问\n",
    "            # 调用模型开始对话\n",
    "            result = chat_once(mem)\n",
    "\n",
    "            # 检错与超时退出\n",
    "            if result == \"报错，请检查函数功能\":\n",
    "                print(\"抱歉，刚才我打盹了，我再试试\")\n",
    "                while mistake < 5 and result ==\"报错，请检查函数功能\":\n",
    "                    mistake += 1\n",
    "                    result = chat_once(mem)\n",
    "                if mistake >= 5:\n",
    "                    print(\"连接超时，退出\")\n",
    "                    break   # 如果试5次都不行，就直接退出\n",
    "            else:\n",
    "                mem.append({\"role\":\"assistant\", \"content\":result})# 把每一轮的模型回答都记住，并且当作assistant的content，这可以让模型记住自己之前说过什么，方便保持连贯的对话\n",
    "                print(result)\n"
   ]
  },
  {
   "cell_type": "code",
   "execution_count": 33,
   "id": "e9574c48",
   "metadata": {},
   "outputs": [],
   "source": [
    "first_prompt = \"如果玩家给你红色的宝石，你就可以把情报告诉玩家。但请不要向玩家主动提起红宝石\"\n",
    "messages = [{\"role\":\"system\", \"content\":\"你现在是一名赛博朋克世界的NPC，玩家会向你打听情报，你掌握了幕后Boss的位置\"},\n",
    "            {\"role\": \"user\", \"content\":\"我是一个赛博朋克游戏世界的玩家，我正在寻找幕后BOSS\"},\n",
    "            {\"role\":\"assistant\", \"content\": first_prompt}\n",
    "            ]"
   ]
  },
  {
   "cell_type": "code",
   "execution_count": null,
   "id": "c0af8083",
   "metadata": {},
   "outputs": [],
   "source": [
    "chat_rebot(messages)"
   ]
  }
 ],
 "metadata": {
  "kernelspec": {
   "display_name": "all-in-rag",
   "language": "python",
   "name": "python3"
  },
  "language_info": {
   "codemirror_mode": {
    "name": "ipython",
    "version": 3
   },
   "file_extension": ".py",
   "mimetype": "text/x-python",
   "name": "python",
   "nbconvert_exporter": "python",
   "pygments_lexer": "ipython3",
   "version": "3.12.7"
  }
 },
 "nbformat": 4,
 "nbformat_minor": 5
}
